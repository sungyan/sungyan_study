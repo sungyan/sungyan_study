{
 "cells": [
  {
   "cell_type": "code",
   "execution_count": 3,
   "metadata": {},
   "outputs": [],
   "source": [
    "# 모듈 추가\n",
    "import requests\n",
    "from urllib.parse import urlparse\n",
    "import pandas as pd"
   ]
  },
  {
   "cell_type": "code",
   "execution_count": 2,
   "metadata": {},
   "outputs": [],
   "source": [
    "lon = 127.947727443701; lat = 37.337061376149 # 국립공원연구원 위치\n",
    "page=1 # 첫번째 페이지\n",
    "url = \"https://dapi.kakao.com/v2/local/search/category.json?&category_group_code=CS2&x=\"\\\n",
    "+str(lon)+\"&y=\"+str(lat)+\"&page=\"+str(page)+\"&radius=1000\" # 카카오맵 API\n",
    "json_obj = requests.get(urlparse(url).geturl(),headers={\"Authorization\":\"KakaoAK 4d25f7ae6c4cab6bc96c746280e403af\"}).json()"
   ]
  },
  {
   "cell_type": "code",
   "execution_count": 3,
   "metadata": {},
   "outputs": [
    {
     "data": {
      "text/plain": [
       "{'address_name': '강원 원주시 개운동 322',\n",
       " 'category_group_code': 'CS2',\n",
       " 'category_group_name': '편의점',\n",
       " 'category_name': '가정,생활 > 편의점 > 미니스톱',\n",
       " 'distance': '320',\n",
       " 'id': '11230024',\n",
       " 'phone': '1577-9621',\n",
       " 'place_name': '미니스톱 원주현대점',\n",
       " 'place_url': 'http://place.map.kakao.com/11230024',\n",
       " 'road_address_name': '강원 원주시 남원로612번길 9',\n",
       " 'x': '127.951338709114',\n",
       " 'y': '37.3370900547245'}"
      ]
     },
     "execution_count": 3,
     "metadata": {},
     "output_type": "execute_result"
    }
   ],
   "source": [
    "# 첫번째 편의점 정보\n",
    "json_obj['documents'][0]"
   ]
  },
  {
   "cell_type": "code",
   "execution_count": 4,
   "metadata": {},
   "outputs": [
    {
     "data": {
      "text/html": [
       "<div>\n",
       "<style scoped>\n",
       "    .dataframe tbody tr th:only-of-type {\n",
       "        vertical-align: middle;\n",
       "    }\n",
       "\n",
       "    .dataframe tbody tr th {\n",
       "        vertical-align: top;\n",
       "    }\n",
       "\n",
       "    .dataframe thead th {\n",
       "        text-align: right;\n",
       "    }\n",
       "</style>\n",
       "<table border=\"1\" class=\"dataframe\">\n",
       "  <thead>\n",
       "    <tr style=\"text-align: right;\">\n",
       "      <th></th>\n",
       "      <th>place_name</th>\n",
       "      <th>road_address_name</th>\n",
       "      <th>distance</th>\n",
       "      <th>x</th>\n",
       "      <th>y</th>\n",
       "    </tr>\n",
       "  </thead>\n",
       "  <tbody>\n",
       "    <tr>\n",
       "      <td>0</td>\n",
       "      <td>미니스톱 원주현대점</td>\n",
       "      <td>강원 원주시 남원로612번길 9</td>\n",
       "      <td>320</td>\n",
       "      <td>127.951338709114</td>\n",
       "      <td>37.3370900547245</td>\n",
       "    </tr>\n",
       "  </tbody>\n",
       "</table>\n",
       "</div>"
      ],
      "text/plain": [
       "   place_name  road_address_name distance                 x                 y\n",
       "0  미니스톱 원주현대점  강원 원주시 남원로612번길 9      320  127.951338709114  37.3370900547245"
      ]
     },
     "execution_count": 4,
     "metadata": {},
     "output_type": "execute_result"
    }
   ],
   "source": [
    "# 첫번째 편의점 정보 데이터프레임\n",
    "pd.DataFrame(json_obj['documents'][0], index=[0])[['place_name','road_address_name', 'distance', 'x', 'y']]"
   ]
  },
  {
   "cell_type": "code",
   "execution_count": 5,
   "metadata": {},
   "outputs": [
    {
     "data": {
      "text/html": [
       "<div>\n",
       "<style scoped>\n",
       "    .dataframe tbody tr th:only-of-type {\n",
       "        vertical-align: middle;\n",
       "    }\n",
       "\n",
       "    .dataframe tbody tr th {\n",
       "        vertical-align: top;\n",
       "    }\n",
       "\n",
       "    .dataframe thead th {\n",
       "        text-align: right;\n",
       "    }\n",
       "</style>\n",
       "<table border=\"1\" class=\"dataframe\">\n",
       "  <thead>\n",
       "    <tr style=\"text-align: right;\">\n",
       "      <th></th>\n",
       "      <th>place_name</th>\n",
       "      <th>road_address_name</th>\n",
       "      <th>distance</th>\n",
       "      <th>x</th>\n",
       "      <th>y</th>\n",
       "    </tr>\n",
       "  </thead>\n",
       "  <tbody>\n",
       "    <tr>\n",
       "      <td>0</td>\n",
       "      <td>미니스톱 원주현대점</td>\n",
       "      <td>강원 원주시 남원로612번길 9</td>\n",
       "      <td>320</td>\n",
       "      <td>127.951338709114</td>\n",
       "      <td>37.3370900547245</td>\n",
       "    </tr>\n",
       "  </tbody>\n",
       "</table>\n",
       "</div>"
      ],
      "text/plain": [
       "   place_name  road_address_name distance                 x                 y\n",
       "0  미니스톱 원주현대점  강원 원주시 남원로612번길 9      320  127.951338709114  37.3370900547245"
      ]
     },
     "execution_count": 5,
     "metadata": {},
     "output_type": "execute_result"
    }
   ],
   "source": [
    "# 반복문을 위한 데이터프레임 구성\n",
    "df = pd.DataFrame(columns = ['place_name','road_address_name', 'distance', 'x', 'y'])\n",
    "df_s = pd.DataFrame(json_obj['documents'][0], index=[0])[['place_name','road_address_name', 'distance', 'x', 'y']]\n",
    "df = df.append(df_s)\n",
    "df.head()"
   ]
  },
  {
   "cell_type": "code",
   "execution_count": 6,
   "metadata": {},
   "outputs": [
    {
     "data": {
      "text/plain": [
       "{'is_end': False, 'pageable_count': 35, 'same_name': None, 'total_count': 35}"
      ]
     },
     "execution_count": 6,
     "metadata": {},
     "output_type": "execute_result"
    }
   ],
   "source": [
    "# 메타정보\n",
    "json_obj['meta']"
   ]
  },
  {
   "cell_type": "code",
   "execution_count": 7,
   "metadata": {},
   "outputs": [
    {
     "name": "stdout",
     "output_type": "stream",
     "text": [
      "False\n"
     ]
    }
   ],
   "source": [
    "# 메타정보 조건문 정의\n",
    "if json_obj['meta']['is_end'] == False:\n",
    "    print(\"False\")\n",
    "else:\n",
    "    print(\"True\")"
   ]
  },
  {
   "cell_type": "code",
   "execution_count": 8,
   "metadata": {},
   "outputs": [],
   "source": [
    "# 편의점 검색 함수 정의\n",
    "def search_CVS(lon, lat):\n",
    "    df = pd.DataFrame(columns = ['place_name','road_address_name', 'distance', 'x', 'y'])\n",
    "    page = 1\n",
    "    while True:\n",
    "        url = \"https://dapi.kakao.com/v2/local/search/category.json?&category_group_code=CS2&x=\"\\\n",
    "        +str(lon)+\"&y=\"+str(lat)+\"&page=\"+str(page)+\"&radius=1000\"\n",
    "        json_obj = requests.get(urlparse(url).geturl(),headers={\"Authorization\":\"KakaoAK 4d25f7ae6c4cab6bc96c746280e403af\"}).json()\n",
    "        for document in json_obj['documents']:\n",
    "            df_s = pd.DataFrame(document, index=[0])[['place_name','road_address_name', 'distance', 'x', 'y']]\n",
    "            df = df.append(df_s)\n",
    "        if json_obj['meta']['is_end'] == False:\n",
    "            page += 1\n",
    "        else:\n",
    "            return df"
   ]
  },
  {
   "cell_type": "code",
   "execution_count": 9,
   "metadata": {},
   "outputs": [],
   "source": [
    "# 편의점 검색 함수 테스트\n",
    "df = search_CVS(127.947727443701, 37.337061376149)"
   ]
  },
  {
   "cell_type": "code",
   "execution_count": 10,
   "metadata": {},
   "outputs": [
    {
     "data": {
      "text/html": [
       "<div>\n",
       "<style scoped>\n",
       "    .dataframe tbody tr th:only-of-type {\n",
       "        vertical-align: middle;\n",
       "    }\n",
       "\n",
       "    .dataframe tbody tr th {\n",
       "        vertical-align: top;\n",
       "    }\n",
       "\n",
       "    .dataframe thead th {\n",
       "        text-align: right;\n",
       "    }\n",
       "</style>\n",
       "<table border=\"1\" class=\"dataframe\">\n",
       "  <thead>\n",
       "    <tr style=\"text-align: right;\">\n",
       "      <th></th>\n",
       "      <th>place_name</th>\n",
       "      <th>road_address_name</th>\n",
       "      <th>distance</th>\n",
       "      <th>x</th>\n",
       "      <th>y</th>\n",
       "    </tr>\n",
       "  </thead>\n",
       "  <tbody>\n",
       "    <tr>\n",
       "      <td>0</td>\n",
       "      <td>미니스톱 원주현대점</td>\n",
       "      <td>강원 원주시 남원로612번길 9</td>\n",
       "      <td>320</td>\n",
       "      <td>127.951338709114</td>\n",
       "      <td>37.3370900547245</td>\n",
       "    </tr>\n",
       "    <tr>\n",
       "      <td>0</td>\n",
       "      <td>GS25 원주원동점</td>\n",
       "      <td>강원 원주시 남산로 15</td>\n",
       "      <td>496</td>\n",
       "      <td>127.944191621538</td>\n",
       "      <td>37.3405350658268</td>\n",
       "    </tr>\n",
       "    <tr>\n",
       "      <td>0</td>\n",
       "      <td>CU 원주향교점</td>\n",
       "      <td>강원 원주시 남원로 611-1</td>\n",
       "      <td>310</td>\n",
       "      <td>127.95105491442797</td>\n",
       "      <td>37.33794017550028</td>\n",
       "    </tr>\n",
       "    <tr>\n",
       "      <td>0</td>\n",
       "      <td>CU 원주명륜점</td>\n",
       "      <td>강원 원주시 예술관길 28</td>\n",
       "      <td>687</td>\n",
       "      <td>127.941845341032</td>\n",
       "      <td>37.3330178172923</td>\n",
       "    </tr>\n",
       "    <tr>\n",
       "      <td>0</td>\n",
       "      <td>CU 원주개운주공점</td>\n",
       "      <td>강원 원주시 남원로606번길 16</td>\n",
       "      <td>451</td>\n",
       "      <td>127.952817527098</td>\n",
       "      <td>37.3369592216809</td>\n",
       "    </tr>\n",
       "  </tbody>\n",
       "</table>\n",
       "</div>"
      ],
      "text/plain": [
       "   place_name   road_address_name distance                   x  \\\n",
       "0  미니스톱 원주현대점   강원 원주시 남원로612번길 9      320    127.951338709114   \n",
       "0  GS25 원주원동점       강원 원주시 남산로 15      496    127.944191621538   \n",
       "0    CU 원주향교점    강원 원주시 남원로 611-1      310  127.95105491442797   \n",
       "0    CU 원주명륜점      강원 원주시 예술관길 28      687    127.941845341032   \n",
       "0  CU 원주개운주공점  강원 원주시 남원로606번길 16      451    127.952817527098   \n",
       "\n",
       "                   y  \n",
       "0   37.3370900547245  \n",
       "0   37.3405350658268  \n",
       "0  37.33794017550028  \n",
       "0   37.3330178172923  \n",
       "0   37.3369592216809  "
      ]
     },
     "execution_count": 10,
     "metadata": {},
     "output_type": "execute_result"
    }
   ],
   "source": [
    "# 편의점 정보\n",
    "df.head()"
   ]
  },
  {
   "cell_type": "code",
   "execution_count": 11,
   "metadata": {},
   "outputs": [
    {
     "data": {
      "text/html": [
       "<div>\n",
       "<style scoped>\n",
       "    .dataframe tbody tr th:only-of-type {\n",
       "        vertical-align: middle;\n",
       "    }\n",
       "\n",
       "    .dataframe tbody tr th {\n",
       "        vertical-align: top;\n",
       "    }\n",
       "\n",
       "    .dataframe thead th {\n",
       "        text-align: right;\n",
       "    }\n",
       "</style>\n",
       "<table border=\"1\" class=\"dataframe\">\n",
       "  <thead>\n",
       "    <tr style=\"text-align: right;\">\n",
       "      <th></th>\n",
       "      <th>place_name</th>\n",
       "      <th>road_address_name</th>\n",
       "      <th>distance</th>\n",
       "      <th>x</th>\n",
       "      <th>y</th>\n",
       "    </tr>\n",
       "  </thead>\n",
       "  <tbody>\n",
       "    <tr>\n",
       "      <td>0</td>\n",
       "      <td>CU 원주향교점</td>\n",
       "      <td>강원 원주시 남원로 611-1</td>\n",
       "      <td>310</td>\n",
       "      <td>127.95105491442797</td>\n",
       "      <td>37.33794017550028</td>\n",
       "    </tr>\n",
       "    <tr>\n",
       "      <td>0</td>\n",
       "      <td>세븐일레븐 원주남원로점</td>\n",
       "      <td>강원 원주시 남원로 611-1</td>\n",
       "      <td>310</td>\n",
       "      <td>127.951056076815</td>\n",
       "      <td>37.3379428691488</td>\n",
       "    </tr>\n",
       "    <tr>\n",
       "      <td>0</td>\n",
       "      <td>미니스톱 원주현대점</td>\n",
       "      <td>강원 원주시 남원로612번길 9</td>\n",
       "      <td>320</td>\n",
       "      <td>127.951338709114</td>\n",
       "      <td>37.3370900547245</td>\n",
       "    </tr>\n",
       "    <tr>\n",
       "      <td>0</td>\n",
       "      <td>GS25 원주남원로점</td>\n",
       "      <td>강원 원주시 남원로 629</td>\n",
       "      <td>431</td>\n",
       "      <td>127.951834047153</td>\n",
       "      <td>37.3391439490561</td>\n",
       "    </tr>\n",
       "    <tr>\n",
       "      <td>0</td>\n",
       "      <td>CU 원주개운주공점</td>\n",
       "      <td>강원 원주시 남원로606번길 16</td>\n",
       "      <td>451</td>\n",
       "      <td>127.952817527098</td>\n",
       "      <td>37.3369592216809</td>\n",
       "    </tr>\n",
       "  </tbody>\n",
       "</table>\n",
       "</div>"
      ],
      "text/plain": [
       "     place_name   road_address_name distance                   x  \\\n",
       "0      CU 원주향교점    강원 원주시 남원로 611-1      310  127.95105491442797   \n",
       "0  세븐일레븐 원주남원로점    강원 원주시 남원로 611-1      310    127.951056076815   \n",
       "0    미니스톱 원주현대점   강원 원주시 남원로612번길 9      320    127.951338709114   \n",
       "0   GS25 원주남원로점      강원 원주시 남원로 629      431    127.951834047153   \n",
       "0    CU 원주개운주공점  강원 원주시 남원로606번길 16      451    127.952817527098   \n",
       "\n",
       "                   y  \n",
       "0  37.33794017550028  \n",
       "0   37.3379428691488  \n",
       "0   37.3370900547245  \n",
       "0   37.3391439490561  \n",
       "0   37.3369592216809  "
      ]
     },
     "execution_count": 11,
     "metadata": {},
     "output_type": "execute_result"
    }
   ],
   "source": [
    "# 가장 가까운 편의점 확인\n",
    "df.sort_values(by=['distance'], ascending=True).head()"
   ]
  },
  {
   "cell_type": "code",
   "execution_count": 12,
   "metadata": {},
   "outputs": [
    {
     "data": {
      "text/plain": [
       "35"
      ]
     },
     "execution_count": 12,
     "metadata": {},
     "output_type": "execute_result"
    }
   ],
   "source": [
    "# 편의점 개수\n",
    "len(df)"
   ]
  },
  {
   "cell_type": "code",
   "execution_count": 13,
   "metadata": {},
   "outputs": [
    {
     "data": {
      "text/plain": [
       "'127.951338709114'"
      ]
     },
     "execution_count": 13,
     "metadata": {},
     "output_type": "execute_result"
    }
   ],
   "source": [
    "# 경도\n",
    "df.iloc[0, 3]"
   ]
  },
  {
   "cell_type": "code",
   "execution_count": 14,
   "metadata": {},
   "outputs": [
    {
     "data": {
      "text/plain": [
       "'37.3370900547245'"
      ]
     },
     "execution_count": 14,
     "metadata": {},
     "output_type": "execute_result"
    }
   ],
   "source": [
    "# 위도\n",
    "df.iloc[0, 4]"
   ]
  },
  {
   "cell_type": "code",
   "execution_count": 15,
   "metadata": {},
   "outputs": [
    {
     "data": {
      "text/plain": [
       "'\\nvl = QgsVectorLayer(\"Point?crs=EPSG:4326\", \"국립공원연구원\", \"memory\")\\npr = vl.dataProvider()\\npr.addAttributes([QgsField(\"place_name\", QVariant.String),\\n                  QgsField(\"lon\", QVariant.Double),\\n                  QgsField(\"lat\", QVariant.Double)])\\nvl.updateFields()\\nfor i in range(len(df)):\\n    f = QgsFeature()\\n    f.setGeometry(QgsGeometry.fromPointXY(127.947727443701, 37.337061376149)))\\n    f.setAttributes([\\'국립공원연구원\\', 127.947727443701, 37.337061376149])\\n    pr.addFeature(f)\\nvl.updateExtents()\\nQgsProject.instance().addMapLayer(vl)\\n'"
      ]
     },
     "execution_count": 15,
     "metadata": {},
     "output_type": "execute_result"
    }
   ],
   "source": [
    "# QGIS 파이썬콘솔: 국립공원연구원 임시 레이어 추가\n",
    "'''\n",
    "vl = QgsVectorLayer(\"Point?crs=EPSG:4326\", \"국립공원연구원\", \"memory\")\n",
    "pr = vl.dataProvider()\n",
    "pr.addAttributes([QgsField(\"place_name\", QVariant.String),\n",
    "                  QgsField(\"lon\", QVariant.Double),\n",
    "                  QgsField(\"lat\", QVariant.Double)])\n",
    "vl.updateFields()\n",
    "for i in range(len(df)):\n",
    "    f = QgsFeature()\n",
    "    f.setGeometry(QgsGeometry.fromPointXY(127.947727443701, 37.337061376149)))\n",
    "    f.setAttributes(['국립공원연구원', 127.947727443701, 37.337061376149])\n",
    "    pr.addFeature(f)\n",
    "vl.updateExtents()\n",
    "QgsProject.instance().addMapLayer(vl)\n",
    "'''"
   ]
  },
  {
   "cell_type": "code",
   "execution_count": 16,
   "metadata": {},
   "outputs": [],
   "source": [
    "# QGIS 파이썬콘솔: 편의점 검색 함수 정의\n",
    "def search_CVS(lon, lat):\n",
    "    df = pd.DataFrame(columns = ['place_name','road_address_name', 'distance', 'x', 'y'])\n",
    "    page = 1\n",
    "    while True:\n",
    "        url = \"https://dapi.kakao.com/v2/local/search/category.json?&category_group_code=CS2&x=\"\\\n",
    "        +str(lon)+\"&y=\"+str(lat)+\"&page=\"+str(page)+\"&radius=1000\"\n",
    "        json_obj = requests.get(urlparse(url).geturl(),headers={\"Authorization\":\"KakaoAK 4d25f7ae6c4cab6bc96c746280e403af\"}).json()\n",
    "        for document in json_obj['documents']:\n",
    "            df_s = pd.DataFrame(document, index=[0])[['place_name','road_address_name', 'distance', 'x', 'y']]\n",
    "            df = df.append(df_s)\n",
    "        if json_obj['meta']['is_end'] == False:\n",
    "            page += 1\n",
    "        else:\n",
    "            vl = QgsVectorLayer(\"Point?crs=EPSG:4326\", \"CVS\", \"memory\")\n",
    "            pr = vl.dataProvider()\n",
    "            pr.addAttributes([QgsField(\"place_name\", QVariant.String),\n",
    "                              QgsField(\"road_address_name\", QVariant.String),\n",
    "                              QgsField(\"distance\",  QVariant.Int),\n",
    "                              QgsField(\"lon\", QVariant.Double),\n",
    "                              QgsField(\"lat\", QVariant.Double)])\n",
    "            vl.updateFields()\n",
    "            for i in range(len(df)):\n",
    "                f = QgsFeature()\n",
    "                f.setGeometry(QgsGeometry.fromPointXY(QgsPointXY(float(df.iloc[i, 4]), float(df.iloc[i, 3]))))\n",
    "                f.setAttributes([df.iloc[i, 0], df.iloc[i, 1], df.iloc[i, 2], df.iloc[i, 4], df.iloc[i, 3]])\n",
    "                pr.addFeature(f)\n",
    "            vl.updateExtents()\n",
    "            QgsProject.instance().addMapLayer(vl)\n",
    "            break"
   ]
  },
  {
   "cell_type": "code",
   "execution_count": 17,
   "metadata": {},
   "outputs": [],
   "source": [
    "# 결과 확인\n",
    "# search_CVS(127.947727443701, 37.337061376149)"
   ]
  }
 ],
 "metadata": {
  "kernelspec": {
   "display_name": "Python 3",
   "language": "python",
   "name": "python3"
  },
  "language_info": {
   "codemirror_mode": {
    "name": "ipython",
    "version": 3
   },
   "file_extension": ".py",
   "mimetype": "text/x-python",
   "name": "python",
   "nbconvert_exporter": "python",
   "pygments_lexer": "ipython3",
   "version": "3.9.1"
  }
 },
 "nbformat": 4,
 "nbformat_minor": 2
}
